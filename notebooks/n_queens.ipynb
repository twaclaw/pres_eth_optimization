{
 "cells": [
  {
   "cell_type": "markdown",
   "metadata": {},
   "source": [
    "# N-Queens\n",
    "\n",
    "Example taken from [here](https://jump.dev/JuMP.jl/stable/tutorials/linear/n-queens/).\n",
    "\n",
    "N-Queens is a [Constraint Satisfaction Problem](https://en.wikipedia.org/wiki/Constraint_satisfaction_problem).\n",
    "\n",
    "![](https://camo.githubusercontent.com/c5cfe4d6754fc02929fe16e8dd0368bd1cc9aaf960c9ab3258a893cd42e63abc/68747470733a2f2f6d69726f2e6d656469756d2e636f6d2f6d61782f3931342f312a53564350326c4970316a667a4a75516e5f51556556672e706e67)\n",
    "\n",
    "From [Wikipedia](https://en.wikipedia.org/wiki/Eight_queens_puzzle)\n",
    "\n",
    "> Chess composer Max Bezzel published the eight queens puzzle in 1848. Franz Nauck published the first solutions in 1850. Nauck also extended the puzzle to the n queens problem, with n queens on a chessboard of n x n squares.\n",
    ">\n",
    ">Since then, many mathematicians, including Carl Friedrich Gauss, have worked on both the eight queens puzzle and its generalized n-queens version. In 1874, S. Gunther proposed a method using determinants to find solutions. J.W.L. Glaisher refined Gunther's approach.\n",
    ">\n",
    ">In 1972, Edsger Dijkstra used this problem to illustrate the power of what he called structured programming. He published a highly detailed description of a depth-first backtracking algorithm.\n"
   ]
  },
  {
   "cell_type": "code",
   "execution_count": 1,
   "metadata": {},
   "outputs": [],
   "source": [
    "using JuMP\n",
    "import HiGHS\n",
    "import LinearAlgebra"
   ]
  },
  {
   "cell_type": "code",
   "execution_count": 2,
   "metadata": {},
   "outputs": [],
   "source": [
    "N = 4\n",
    "\n",
    "model = Model(HiGHS.Optimizer)\n",
    "set_silent(model)"
   ]
  },
  {
   "cell_type": "markdown",
   "metadata": {},
   "source": [
    "A chessboard of size $\\text{N}\\times \\text{N}$ of binary values"
   ]
  },
  {
   "cell_type": "code",
   "execution_count": 3,
   "metadata": {},
   "outputs": [
    {
     "data": {
      "text/plain": [
       "0"
      ]
     },
     "execution_count": 3,
     "metadata": {},
     "output_type": "execute_result"
    }
   ],
   "source": [
    "@variable(model, x[1:N, 1:N], Bin);\n",
    "@objective(model, Max, 0)"
   ]
  },
  {
   "cell_type": "markdown",
   "metadata": {},
   "source": [
    "There must be exactly one queen in a given row / column"
   ]
  },
  {
   "cell_type": "code",
   "execution_count": 4,
   "metadata": {},
   "outputs": [],
   "source": [
    "for i in 1:N\n",
    "    @constraint(model, sum(x[i, :]) == 1)\n",
    "    @constraint(model, sum(x[:, i]) == 1)\n",
    "end"
   ]
  },
  {
   "cell_type": "markdown",
   "metadata": {},
   "source": [
    "There must be exactly one queen in any diagonal"
   ]
  },
  {
   "cell_type": "code",
   "execution_count": 5,
   "metadata": {},
   "outputs": [],
   "source": [
    "for i in -(N - 1):(N-1)\n",
    "    @constraint(model, sum(LinearAlgebra.diag(x, i)) <= 1)\n",
    "    @constraint(model, sum(LinearAlgebra.diag(reverse(x; dims = 1), i)) <= 1)\n",
    "end\n"
   ]
  },
  {
   "cell_type": "code",
   "execution_count": 6,
   "metadata": {},
   "outputs": [
    {
     "data": {
      "text/latex": [
       "$$ \\begin{aligned}\n",
       "\\max\\quad & 0\\\\\n",
       "\\text{Subject to} \\quad & x_{1,1} + x_{1,2} + x_{1,3} + x_{1,4} = 1\\\\\n",
       " & x_{1,1} + x_{2,1} + x_{3,1} + x_{4,1} = 1\\\\\n",
       " & x_{2,1} + x_{2,2} + x_{2,3} + x_{2,4} = 1\\\\\n",
       " & x_{1,2} + x_{2,2} + x_{3,2} + x_{4,2} = 1\\\\\n",
       " & x_{3,1} + x_{3,2} + x_{3,3} + x_{3,4} = 1\\\\\n",
       " & x_{1,3} + x_{2,3} + x_{3,3} + x_{4,3} = 1\\\\\n",
       " & x_{4,1} + x_{4,2} + x_{4,3} + x_{4,4} = 1\\\\\n",
       " & x_{1,4} + x_{2,4} + x_{3,4} + x_{4,4} = 1\\\\\n",
       " & x_{4,1} \\leq 1\\\\\n",
       " & x_{1,1} \\leq 1\\\\\n",
       " & x_{3,1} + x_{4,2} \\leq 1\\\\\n",
       " & x_{2,1} + x_{1,2} \\leq 1\\\\\n",
       " & x_{2,1} + x_{3,2} + x_{4,3} \\leq 1\\\\\n",
       " & x_{3,1} + x_{2,2} + x_{1,3} \\leq 1\\\\\n",
       " & x_{1,1} + x_{2,2} + x_{3,3} + x_{4,4} \\leq 1\\\\\n",
       " & x_{4,1} + x_{3,2} + x_{2,3} + x_{1,4} \\leq 1\\\\\n",
       " & x_{1,2} + x_{2,3} + x_{3,4} \\leq 1\\\\\n",
       " & x_{4,2} + x_{3,3} + x_{2,4} \\leq 1\\\\\n",
       " & x_{1,3} + x_{2,4} \\leq 1\\\\\n",
       " & x_{4,3} + x_{3,4} \\leq 1\\\\\n",
       " & x_{1,4} \\leq 1\\\\\n",
       " & x_{4,4} \\leq 1\\\\\n",
       " & x_{1,1} \\in \\{0, 1\\}\\\\\n",
       " & x_{2,1} \\in \\{0, 1\\}\\\\\n",
       " & x_{3,1} \\in \\{0, 1\\}\\\\\n",
       " & x_{4,1} \\in \\{0, 1\\}\\\\\n",
       " & x_{1,2} \\in \\{0, 1\\}\\\\\n",
       " & x_{2,2} \\in \\{0, 1\\}\\\\\n",
       " & x_{3,2} \\in \\{0, 1\\}\\\\\n",
       " & x_{4,2} \\in \\{0, 1\\}\\\\\n",
       " & x_{1,3} \\in \\{0, 1\\}\\\\\n",
       " & x_{2,3} \\in \\{0, 1\\}\\\\\n",
       " & x_{3,3} \\in \\{0, 1\\}\\\\\n",
       " & x_{4,3} \\in \\{0, 1\\}\\\\\n",
       " & x_{1,4} \\in \\{0, 1\\}\\\\\n",
       " & x_{2,4} \\in \\{0, 1\\}\\\\\n",
       " & x_{3,4} \\in \\{0, 1\\}\\\\\n",
       " & x_{4,4} \\in \\{0, 1\\}\\\\\n",
       "\\end{aligned} $$"
      ]
     },
     "metadata": {},
     "output_type": "display_data"
    }
   ],
   "source": [
    "print(model)"
   ]
  },
  {
   "cell_type": "code",
   "execution_count": 7,
   "metadata": {},
   "outputs": [],
   "source": [
    "optimize!(model)"
   ]
  },
  {
   "cell_type": "code",
   "execution_count": 8,
   "metadata": {},
   "outputs": [
    {
     "data": {
      "text/plain": [
       "4×4 Matrix{Int64}:\n",
       " 0  0  1  0\n",
       " 1  0  0  0\n",
       " 0  0  0  1\n",
       " 0  1  0  0"
      ]
     },
     "execution_count": 8,
     "metadata": {},
     "output_type": "execute_result"
    }
   ],
   "source": [
    "round.(Int, value.(x))"
   ]
  },
  {
   "cell_type": "code",
   "execution_count": null,
   "metadata": {},
   "outputs": [],
   "source": []
  }
 ],
 "metadata": {
  "kernelspec": {
   "display_name": "Julia 1.9.3",
   "language": "julia",
   "name": "julia-1.9"
  },
  "language_info": {
   "file_extension": ".jl",
   "mimetype": "application/julia",
   "name": "julia",
   "version": "1.9.3"
  }
 },
 "nbformat": 4,
 "nbformat_minor": 2
}
