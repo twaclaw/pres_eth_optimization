{
 "cells": [
  {
   "cell_type": "code",
   "execution_count": 25,
   "metadata": {},
   "outputs": [],
   "source": [
    "using JuMP\n",
    "using HiGHS\n",
    "using CSV\n",
    "using DataFrames"
   ]
  },
  {
   "cell_type": "code",
   "execution_count": 26,
   "metadata": {},
   "outputs": [],
   "source": [
    "d = CSV.read(\n",
    "    joinpath(\"./data/\", \"Howell1.csv\"),\n",
    "    DataFrames.DataFrame,\n",
    ");\n"
   ]
  },
  {
   "cell_type": "code",
   "execution_count": 27,
   "metadata": {},
   "outputs": [],
   "source": [
    "d2 = filter(row -> row.age >= 18, d);"
   ]
  },
  {
   "cell_type": "code",
   "execution_count": 28,
   "metadata": {},
   "outputs": [
    {
     "data": {
      "text/html": [
       "<div><div style = \"float: left;\"><span>4×4 DataFrame</span></div><div style = \"clear: both;\"></div></div><div class = \"data-frame\" style = \"overflow-x: scroll;\"><table class = \"data-frame\" style = \"margin-bottom: 6px;\"><thead><tr class = \"header\"><th class = \"rowNumber\" style = \"font-weight: bold; text-align: right;\">Row</th><th style = \"text-align: left;\">height</th><th style = \"text-align: left;\">weight</th><th style = \"text-align: left;\">age</th><th style = \"text-align: left;\">male</th></tr><tr class = \"subheader headerLastRow\"><th class = \"rowNumber\" style = \"font-weight: bold; text-align: right;\"></th><th title = \"Float64\" style = \"text-align: left;\">Float64</th><th title = \"Float64\" style = \"text-align: left;\">Float64</th><th title = \"Float64\" style = \"text-align: left;\">Float64</th><th title = \"Int64\" style = \"text-align: left;\">Int64</th></tr></thead><tbody><tr><td class = \"rowNumber\" style = \"font-weight: bold; text-align: right;\">1</td><td style = \"text-align: right;\">151.765</td><td style = \"text-align: right;\">47.8256</td><td style = \"text-align: right;\">63.0</td><td style = \"text-align: right;\">1</td></tr><tr><td class = \"rowNumber\" style = \"font-weight: bold; text-align: right;\">2</td><td style = \"text-align: right;\">139.7</td><td style = \"text-align: right;\">36.4858</td><td style = \"text-align: right;\">63.0</td><td style = \"text-align: right;\">0</td></tr><tr><td class = \"rowNumber\" style = \"font-weight: bold; text-align: right;\">3</td><td style = \"text-align: right;\">136.525</td><td style = \"text-align: right;\">31.8648</td><td style = \"text-align: right;\">65.0</td><td style = \"text-align: right;\">0</td></tr><tr><td class = \"rowNumber\" style = \"font-weight: bold; text-align: right;\">4</td><td style = \"text-align: right;\">156.845</td><td style = \"text-align: right;\">53.0419</td><td style = \"text-align: right;\">41.0</td><td style = \"text-align: right;\">1</td></tr></tbody></table></div>"
      ],
      "text/latex": [
       "\\begin{tabular}{r|cccc}\n",
       "\t& height & weight & age & male\\\\\n",
       "\t\\hline\n",
       "\t& Float64 & Float64 & Float64 & Int64\\\\\n",
       "\t\\hline\n",
       "\t1 & 151.765 & 47.8256 & 63.0 & 1 \\\\\n",
       "\t2 & 139.7 & 36.4858 & 63.0 & 0 \\\\\n",
       "\t3 & 136.525 & 31.8648 & 65.0 & 0 \\\\\n",
       "\t4 & 156.845 & 53.0419 & 41.0 & 1 \\\\\n",
       "\\end{tabular}\n"
      ],
      "text/plain": [
       "\u001b[1m4×4 DataFrame\u001b[0m\n",
       "\u001b[1m Row \u001b[0m│\u001b[1m height  \u001b[0m\u001b[1m weight  \u001b[0m\u001b[1m age     \u001b[0m\u001b[1m male  \u001b[0m\n",
       "     │\u001b[90m Float64 \u001b[0m\u001b[90m Float64 \u001b[0m\u001b[90m Float64 \u001b[0m\u001b[90m Int64 \u001b[0m\n",
       "─────┼──────────────────────────────────\n",
       "   1 │ 151.765  47.8256     63.0      1\n",
       "   2 │ 139.7    36.4858     63.0      0\n",
       "   3 │ 136.525  31.8648     65.0      0\n",
       "   4 │ 156.845  53.0419     41.0      1"
      ]
     },
     "execution_count": 28,
     "metadata": {},
     "output_type": "execute_result"
    }
   ],
   "source": [
    "d2[1:4,:]"
   ]
  },
  {
   "cell_type": "code",
   "execution_count": 29,
   "metadata": {},
   "outputs": [],
   "source": [
    "y = d2.height;\n",
    "x = d2.weight;"
   ]
  },
  {
   "cell_type": "code",
   "execution_count": 46,
   "metadata": {},
   "outputs": [
    {
     "name": "stdout",
     "output_type": "stream",
     "text": [
      "Running HiGHS 1.6.0: Copyright (c) 2023 HiGHS under MIT licence terms\n",
      "Iteration, Runtime, ObjVal, NullspaceDim\n",
      "0, 0.000276, 8433932.128826, 2\n",
      "3, 0.000305, 9054.786322, 2\n",
      "Model   status      : Optimal\n",
      "Objective value     :  9.0547863219e+03\n",
      "HiGHS run time      :          0.00\n"
     ]
    }
   ],
   "source": [
    "model = Model(HiGHS.Optimizer);\n",
    "@variable(model, β0)\n",
    "@variable(model, β1)\n",
    "@objective(model, Min, sum((β1 * x .+ β0 -y).^2))\n",
    "optimize!(model)\n",
    "@assert termination_status(model) == OPTIMAL\n",
    "@assert primal_status(model) == FEASIBLE_POINT"
   ]
  },
  {
   "cell_type": "code",
   "execution_count": 47,
   "metadata": {},
   "outputs": [
    {
     "data": {
      "text/plain": [
       "113.87939360688642"
      ]
     },
     "execution_count": 47,
     "metadata": {},
     "output_type": "execute_result"
    }
   ],
   "source": [
    "value(β0)"
   ]
  },
  {
   "cell_type": "code",
   "execution_count": 48,
   "metadata": {},
   "outputs": [
    {
     "data": {
      "text/plain": [
       "0.9050291086268055"
      ]
     },
     "execution_count": 48,
     "metadata": {},
     "output_type": "execute_result"
    }
   ],
   "source": [
    "value(β1)"
   ]
  },
  {
   "cell_type": "code",
   "execution_count": null,
   "metadata": {},
   "outputs": [],
   "source": []
  }
 ],
 "metadata": {
  "kernelspec": {
   "display_name": "Julia 1.9.3",
   "language": "julia",
   "name": "julia-1.9"
  },
  "language_info": {
   "file_extension": ".jl",
   "mimetype": "application/julia",
   "name": "julia",
   "version": "1.9.3"
  }
 },
 "nbformat": 4,
 "nbformat_minor": 2
}
